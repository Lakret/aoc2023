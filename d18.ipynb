{
 "cells": [
  {
   "cell_type": "markdown",
   "metadata": {},
   "source": [
    "### Parsing"
   ]
  },
  {
   "cell_type": "code",
   "execution_count": 36,
   "metadata": {},
   "outputs": [],
   "source": [
    "test_input = \"\"\"R 6 (#70c710)\n",
    "D 5 (#0dc571)\n",
    "L 2 (#5713f0)\n",
    "D 2 (#d2c081)\n",
    "R 2 (#59c680)\n",
    "D 2 (#411b91)\n",
    "L 5 (#8ceee2)\n",
    "U 2 (#caa173)\n",
    "L 1 (#1b58a2)\n",
    "U 2 (#caa171)\n",
    "R 2 (#7807d2)\n",
    "U 3 (#a77fa3)\n",
    "L 2 (#015232)\n",
    "U 2 (#7a21e3)\n",
    "\"\"\"\n",
    "\n",
    "with open(\"inputs/d18\") as f:\n",
    "    input = f.read()"
   ]
  },
  {
   "cell_type": "code",
   "execution_count": 54,
   "metadata": {},
   "outputs": [],
   "source": [
    "def parse_input(input):\n",
    "    plan = [\n",
    "        dict(zip([\"direction\", \"meters\", \"color\"], line.split()))\n",
    "        for line in input.strip().splitlines()\n",
    "    ]\n",
    "\n",
    "    for step in plan:\n",
    "        step[\"meters\"] = int(step[\"meters\"])\n",
    "        step[\"color\"] = step[\"color\"].strip(\"()\")\n",
    "\n",
    "    return plan"
   ]
  },
  {
   "cell_type": "code",
   "execution_count": 216,
   "metadata": {},
   "outputs": [],
   "source": [
    "test_plan = parse_input(test_input)\n",
    "plan = parse_input(input)"
   ]
  },
  {
   "cell_type": "markdown",
   "metadata": {},
   "source": [
    "### Part 1: Flood Fill Solution and Polygon Visualization"
   ]
  },
  {
   "cell_type": "code",
   "execution_count": 55,
   "metadata": {},
   "outputs": [],
   "source": [
    "def build_boundary(plan):\n",
    "    boundary = set()\n",
    "    min_row, min_col, max_row, max_col, row, col = 0, 0, 0, 0, 0, 0\n",
    "    direction_moves = {\"R\": (0, 1), \"L\": (0, -1), \"U\": (-1, 0), \"D\": (1, 0)}\n",
    "\n",
    "    for step in plan:\n",
    "        move = direction_moves[step[\"direction\"]]\n",
    "        for _ in range(step[\"meters\"]):\n",
    "            row = row + move[0]\n",
    "            col = col + move[1]\n",
    "            boundary.add((row, col))\n",
    "        min_row = min(min_row, row)\n",
    "        min_col = min(min_col, col)\n",
    "        max_row = max(max_row, row)\n",
    "        max_col = max(max_col, col)\n",
    "\n",
    "    return {\"boundary\": boundary, \"min_row\": min_row, \"max_row\": max_row, \"min_col\": min_col, \"max_col\": max_col}"
   ]
  },
  {
   "cell_type": "code",
   "execution_count": 217,
   "metadata": {},
   "outputs": [],
   "source": [
    "test_boundary = build_boundary(test_plan)\n",
    "assert len(test_boundary[\"boundary\"]) == 38"
   ]
  },
  {
   "cell_type": "code",
   "execution_count": 218,
   "metadata": {},
   "outputs": [],
   "source": [
    "boundary = build_boundary(plan)\n",
    "assert len(boundary[\"boundary\"]) == 3650"
   ]
  },
  {
   "cell_type": "code",
   "execution_count": 100,
   "metadata": {},
   "outputs": [],
   "source": [
    "def visualize(boundary: dict, inner: set):\n",
    "    for row in range(boundary[\"min_row\"], boundary[\"max_row\"] + 1):\n",
    "        for col in range(boundary[\"min_col\"], boundary[\"max_col\"] + 1):\n",
    "            if (row, col) in boundary[\"boundary\"]:\n",
    "                print(\"#\", end=\"\")\n",
    "            elif (row, col) in inner:\n",
    "                print(\"x\", end=\"\")\n",
    "            else:\n",
    "                print(\".\", end=\"\")\n",
    "        print()"
   ]
  },
  {
   "cell_type": "code",
   "execution_count": 96,
   "metadata": {},
   "outputs": [
    {
     "name": "stdout",
     "output_type": "stream",
     "text": [
      "#######\n",
      "#.....#\n",
      "###...#\n",
      "..#...#\n",
      "..#...#\n",
      "###.###\n",
      "#...#..\n",
      "##..###\n",
      ".#....#\n",
      ".######\n"
     ]
    }
   ],
   "source": [
    "visualize(test_boundary, set())"
   ]
  },
  {
   "cell_type": "code",
   "execution_count": 109,
   "metadata": {},
   "outputs": [],
   "source": [
    "def flood_fill(boundary: dict):\n",
    "    def find_start():\n",
    "        \"\"\"Find left-most point we can start flood fill from\"\"\"\n",
    "        for row in range(boundary[\"min_row\"], boundary[\"max_row\"] + 1):\n",
    "            if (row, 0) in boundary[\"boundary\"]:\n",
    "                return (row, 0)\n",
    "\n",
    "    (row, col) = find_start()\n",
    "    row += 1\n",
    "    col += 1\n",
    "\n",
    "    neighbours = [(-1, 0), (1, 0), (0, -1), (0, 1)]\n",
    "    frontier = [(row, col)]\n",
    "    found = set()\n",
    "    while frontier:\n",
    "        (row, col) = frontier.pop()\n",
    "        for (delta_row, delta_col) in neighbours:\n",
    "            neighbour = (row + delta_row, col + delta_col)\n",
    "            if neighbour[0] >= boundary[\"min_row\"] and neighbour[0] <= boundary[\"max_row\"] and \\\n",
    "                neighbour[1] >= boundary[\"min_col\"] and neighbour[1] <= boundary[\"max_col\"] and \\\n",
    "                neighbour not in boundary[\"boundary\"] and neighbour not in found:\n",
    "\n",
    "                found.add(neighbour)\n",
    "                frontier.append(neighbour)\n",
    "    return found\n"
   ]
  },
  {
   "cell_type": "code",
   "execution_count": 222,
   "metadata": {},
   "outputs": [
    {
     "name": "stdout",
     "output_type": "stream",
     "text": [
      "#######\n",
      "#xxxxx#\n",
      "###xxx#\n",
      "..#xxx#\n",
      "..#xxx#\n",
      "###x###\n",
      "#xxx#..\n",
      "##xx###\n",
      ".#xxxx#\n",
      ".######\n"
     ]
    }
   ],
   "source": [
    "test_inner = flood_fill(test_boundary)\n",
    "visualize(test_boundary, test_inner)"
   ]
  },
  {
   "cell_type": "code",
   "execution_count": 221,
   "metadata": {},
   "outputs": [],
   "source": [
    "# inner = flood_fill(boundary)\n",
    "# visualize(boundary, inner)"
   ]
  },
  {
   "cell_type": "code",
   "execution_count": 107,
   "metadata": {},
   "outputs": [],
   "source": [
    "def p1(plan):\n",
    "    boundary = build_boundary(plan)\n",
    "    inner = flood_fill(boundary)\n",
    "    return len(boundary[\"boundary\"]) + len(inner)"
   ]
  },
  {
   "cell_type": "code",
   "execution_count": 210,
   "metadata": {},
   "outputs": [],
   "source": [
    "assert p1(test_plan) == 62"
   ]
  },
  {
   "cell_type": "code",
   "execution_count": 220,
   "metadata": {},
   "outputs": [
    {
     "name": "stdout",
     "output_type": "stream",
     "text": [
      "CPU times: user 58 ms, sys: 0 ns, total: 58 ms\n",
      "Wall time: 57.7 ms\n"
     ]
    }
   ],
   "source": [
    "%%time\n",
    "\n",
    "assert p1(plan) == 56923"
   ]
  },
  {
   "cell_type": "markdown",
   "metadata": {},
   "source": [
    "### Part 2: Solution with Shoelace Formula\n",
    "\n",
    "Since we cannot realistically build such a huge set and do flood fill on it, \n",
    "we instead use  [Shoelace formula](https://en.wikipedia.org/wiki/Shoelace_formula) to compute the area\n",
    "of the polygon.\n",
    "\n",
    "We are using trapezioid variation of the formula, and it seems that we already include \n",
    "half the boundary in the shoelace area, so we only use half of the boundary_length to arrive at the final\n",
    "answer in `p2`."
   ]
  },
  {
   "cell_type": "code",
   "execution_count": 223,
   "metadata": {},
   "outputs": [],
   "source": [
    "import itertools"
   ]
  },
  {
   "cell_type": "code",
   "execution_count": 124,
   "metadata": {},
   "outputs": [],
   "source": [
    "def reinterpret(plan):\n",
    "    directions = [\"R\", \"D\", \"L\", \"U\"]\n",
    "    steps = []\n",
    "\n",
    "    for step in plan:\n",
    "        digits = step[\"color\"].removeprefix(\"#\")\n",
    "        meters = int(digits[0:5], 16)\n",
    "        direction = directions[int(digits[5])]\n",
    "\n",
    "        steps.append({\"direction\": direction, \"meters\": meters})\n",
    "\n",
    "    return steps"
   ]
  },
  {
   "cell_type": "code",
   "execution_count": 166,
   "metadata": {},
   "outputs": [],
   "source": [
    "def vertices_and_boundary_length(real_plan):\n",
    "    vertices = []\n",
    "    boundary_length = 0\n",
    "    min_x, min_y, max_x, max_y, row, col = 0, 0, 0, 0, 0, 0\n",
    "    direction_moves = {\"R\": (0, 1), \"L\": (0, -1), \"U\": (-1, 0), \"D\": (1, 0)}\n",
    "\n",
    "    for step in real_plan:\n",
    "        move = direction_moves[step[\"direction\"]]\n",
    "        boundary_length += step[\"meters\"]\n",
    "        row = row + move[0] * step[\"meters\"]\n",
    "        col = col + move[1] * step[\"meters\"]\n",
    "        # here we interpret them as (x, y) coords, to apply shoelace formula\n",
    "        vertices.append((col, row))\n",
    "\n",
    "        min_x = min(min_x, col)\n",
    "        min_y = min(min_y, row)\n",
    "        max_x = max(max_x, col)\n",
    "        max_y = max(max_y, row)\n",
    "\n",
    "\n",
    "    return (vertices, boundary_length)"
   ]
  },
  {
   "cell_type": "code",
   "execution_count": 164,
   "metadata": {},
   "outputs": [],
   "source": [
    "def shoelace_area(vertices):\n",
    "    area = 0\n",
    "    for ((x1, y1), (x2, y2)) in itertools.pairwise(vertices):\n",
    "        area += (y1 + y2) * (x1 - x2)\n",
    "    return 0.5 * area"
   ]
  },
  {
   "cell_type": "code",
   "execution_count": 219,
   "metadata": {},
   "outputs": [],
   "source": [
    "def p2(plan, should_reinterpret=True):\n",
    "    real_plan = reinterpret(plan) if should_reinterpret else plan\n",
    "    (vertices, boundary_length) = vertices_and_boundary_length(real_plan)\n",
    "    return int(shoelace_area(vertices) + boundary_length / 2 + 1)"
   ]
  },
  {
   "cell_type": "code",
   "execution_count": 208,
   "metadata": {},
   "outputs": [],
   "source": [
    "assert p2(test_plan) == 952408144115\n",
    "assert p2(test_plan, False) == 62\n",
    "assert p2(plan, False) == 56923"
   ]
  },
  {
   "cell_type": "code",
   "execution_count": 214,
   "metadata": {},
   "outputs": [
    {
     "name": "stdout",
     "output_type": "stream",
     "text": [
      "CPU times: user 1.03 ms, sys: 0 ns, total: 1.03 ms\n",
      "Wall time: 1.03 ms\n"
     ]
    }
   ],
   "source": [
    "%%time\n",
    "\n",
    "assert p2(plan) == 66296566363189"
   ]
  }
 ],
 "metadata": {
  "kernelspec": {
   "display_name": "Python 3",
   "language": "python",
   "name": "python3"
  },
  "language_info": {
   "codemirror_mode": {
    "name": "ipython",
    "version": 3
   },
   "file_extension": ".py",
   "mimetype": "text/x-python",
   "name": "python",
   "nbconvert_exporter": "python",
   "pygments_lexer": "ipython3",
   "version": "3.11.6"
  }
 },
 "nbformat": 4,
 "nbformat_minor": 2
}
